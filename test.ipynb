{
 "cells": [
  {
   "cell_type": "code",
   "execution_count": 4,
   "metadata": {},
   "outputs": [
    {
     "name": "stderr",
     "output_type": "stream",
     "text": [
      "Device set to use cpu\n"
     ]
    }
   ],
   "source": [
    "import requests\n",
    "from bs4 import BeautifulSoup\n",
    "from transformers import pipeline\n",
    "\n",
    "# Load the summarization pipeline globally\n",
    "summarizer_pipeline = pipeline(\"summarization\", model=\"t5-small\", tokenizer=\"t5-small\")"
   ]
  },
  {
   "cell_type": "code",
   "execution_count": 5,
   "metadata": {},
   "outputs": [],
   "source": [
    "def get_webpage_text(url):\n",
    "    try:\n",
    "        response = requests.get(url)\n",
    "        response.raise_for_status()  # Raise an error for bad status\n",
    "        soup = BeautifulSoup(response.text, 'html.parser')\n",
    "\n",
    "        # Remove script and style tags (they don't contain visible text)\n",
    "        for tag in soup(['script', 'style', 'noscript']):\n",
    "            tag.decompose()\n",
    "\n",
    "        # Get all visible text\n",
    "        text = soup.get_text(separator=' ', strip=True)\n",
    "        return text\n",
    "    except Exception as e:\n",
    "        print(f\"Error fetching or parsing the webpage: {e}\")\n",
    "        return \"\""
   ]
  },
  {
   "cell_type": "code",
   "execution_count": 9,
   "metadata": {},
   "outputs": [],
   "source": [
    "def summarize_text(text, max_chunk_len=500):\n",
    "    # T5 has a token limit, so we split large text into smaller chunks\n",
    "    chunks = [text[i:i+max_chunk_len] for i in range(0, len(text), max_chunk_len)]\n",
    "    summaries = []\n",
    "\n",
    "    for chunk in chunks:\n",
    "        input_text = \"summarize: \" + chunk\n",
    "        summary = summarizer_pipeline(input_text, do_sample=False)[0]['summary_text']\n",
    "        summaries.append(summary)\n",
    "    \n",
    "    return ' '.join(summaries)"
   ]
  },
  {
   "cell_type": "code",
   "execution_count": 7,
   "metadata": {},
   "outputs": [],
   "source": [
    "def summarize_webpage(url):\n",
    "    print(f\"Fetching content from: {url}\")\n",
    "    text = get_webpage_text(url)\n",
    "    if not text:\n",
    "        print(\"No content to summarize.\")\n",
    "        return\n",
    "    \n",
    "    print(\"\\nGenerating summary...\\n\")\n",
    "    summary = summarize_text(text)\n",
    "    print(\"Summary:\\n\")\n",
    "    print(summary)"
   ]
  },
  {
   "cell_type": "code",
   "execution_count": 10,
   "metadata": {},
   "outputs": [
    {
     "name": "stdout",
     "output_type": "stream",
     "text": [
      "Fetching content from: https://bytescout.com/blog/32-bit-single-precision-floating-point.html\n"
     ]
    },
    {
     "name": "stderr",
     "output_type": "stream",
     "text": [
      "Your max_length is set to 200, but your input_length is only 132. Since this is a summarization task, where outputs shorter than the input are typically wanted, you might consider decreasing max_length manually, e.g. summarizer('...', max_length=66)\n"
     ]
    },
    {
     "name": "stdout",
     "output_type": "stream",
     "text": [
      "\n",
      "Generating summary...\n",
      "\n"
     ]
    },
    {
     "name": "stderr",
     "output_type": "stream",
     "text": [
      "Your max_length is set to 200, but your input_length is only 147. Since this is a summarization task, where outputs shorter than the input are typically wanted, you might consider decreasing max_length manually, e.g. summarizer('...', max_length=73)\n",
      "Your max_length is set to 200, but your input_length is only 158. Since this is a summarization task, where outputs shorter than the input are typically wanted, you might consider decreasing max_length manually, e.g. summarizer('...', max_length=79)\n",
      "Your max_length is set to 200, but your input_length is only 142. Since this is a summarization task, where outputs shorter than the input are typically wanted, you might consider decreasing max_length manually, e.g. summarizer('...', max_length=71)\n",
      "Your max_length is set to 200, but your input_length is only 133. Since this is a summarization task, where outputs shorter than the input are typically wanted, you might consider decreasing max_length manually, e.g. summarizer('...', max_length=66)\n",
      "Your max_length is set to 200, but your input_length is only 135. Since this is a summarization task, where outputs shorter than the input are typically wanted, you might consider decreasing max_length manually, e.g. summarizer('...', max_length=67)\n",
      "Your max_length is set to 200, but your input_length is only 121. Since this is a summarization task, where outputs shorter than the input are typically wanted, you might consider decreasing max_length manually, e.g. summarizer('...', max_length=60)\n",
      "Your max_length is set to 200, but your input_length is only 113. Since this is a summarization task, where outputs shorter than the input are typically wanted, you might consider decreasing max_length manually, e.g. summarizer('...', max_length=56)\n",
      "Your max_length is set to 200, but your input_length is only 112. Since this is a summarization task, where outputs shorter than the input are typically wanted, you might consider decreasing max_length manually, e.g. summarizer('...', max_length=56)\n",
      "Your max_length is set to 200, but your input_length is only 106. Since this is a summarization task, where outputs shorter than the input are typically wanted, you might consider decreasing max_length manually, e.g. summarizer('...', max_length=53)\n",
      "Your max_length is set to 200, but your input_length is only 117. Since this is a summarization task, where outputs shorter than the input are typically wanted, you might consider decreasing max_length manually, e.g. summarizer('...', max_length=58)\n",
      "Your max_length is set to 200, but your input_length is only 133. Since this is a summarization task, where outputs shorter than the input are typically wanted, you might consider decreasing max_length manually, e.g. summarizer('...', max_length=66)\n",
      "Your max_length is set to 200, but your input_length is only 153. Since this is a summarization task, where outputs shorter than the input are typically wanted, you might consider decreasing max_length manually, e.g. summarizer('...', max_length=76)\n",
      "Your max_length is set to 200, but your input_length is only 138. Since this is a summarization task, where outputs shorter than the input are typically wanted, you might consider decreasing max_length manually, e.g. summarizer('...', max_length=69)\n",
      "Your max_length is set to 200, but your input_length is only 161. Since this is a summarization task, where outputs shorter than the input are typically wanted, you might consider decreasing max_length manually, e.g. summarizer('...', max_length=80)\n",
      "Your max_length is set to 200, but your input_length is only 150. Since this is a summarization task, where outputs shorter than the input are typically wanted, you might consider decreasing max_length manually, e.g. summarizer('...', max_length=75)\n",
      "Your max_length is set to 200, but your input_length is only 163. Since this is a summarization task, where outputs shorter than the input are typically wanted, you might consider decreasing max_length manually, e.g. summarizer('...', max_length=81)\n",
      "Your max_length is set to 200, but your input_length is only 140. Since this is a summarization task, where outputs shorter than the input are typically wanted, you might consider decreasing max_length manually, e.g. summarizer('...', max_length=70)\n",
      "Your max_length is set to 200, but your input_length is only 174. Since this is a summarization task, where outputs shorter than the input are typically wanted, you might consider decreasing max_length manually, e.g. summarizer('...', max_length=87)\n",
      "Your max_length is set to 200, but your input_length is only 153. Since this is a summarization task, where outputs shorter than the input are typically wanted, you might consider decreasing max_length manually, e.g. summarizer('...', max_length=76)\n",
      "Your max_length is set to 200, but your input_length is only 132. Since this is a summarization task, where outputs shorter than the input are typically wanted, you might consider decreasing max_length manually, e.g. summarizer('...', max_length=66)\n",
      "Your max_length is set to 200, but your input_length is only 152. Since this is a summarization task, where outputs shorter than the input are typically wanted, you might consider decreasing max_length manually, e.g. summarizer('...', max_length=76)\n",
      "Your max_length is set to 200, but your input_length is only 171. Since this is a summarization task, where outputs shorter than the input are typically wanted, you might consider decreasing max_length manually, e.g. summarizer('...', max_length=85)\n",
      "Your max_length is set to 200, but your input_length is only 158. Since this is a summarization task, where outputs shorter than the input are typically wanted, you might consider decreasing max_length manually, e.g. summarizer('...', max_length=79)\n",
      "Your max_length is set to 200, but your input_length is only 162. Since this is a summarization task, where outputs shorter than the input are typically wanted, you might consider decreasing max_length manually, e.g. summarizer('...', max_length=81)\n",
      "Your max_length is set to 200, but your input_length is only 144. Since this is a summarization task, where outputs shorter than the input are typically wanted, you might consider decreasing max_length manually, e.g. summarizer('...', max_length=72)\n",
      "Your max_length is set to 200, but your input_length is only 118. Since this is a summarization task, where outputs shorter than the input are typically wanted, you might consider decreasing max_length manually, e.g. summarizer('...', max_length=59)\n",
      "Your max_length is set to 200, but your input_length is only 139. Since this is a summarization task, where outputs shorter than the input are typically wanted, you might consider decreasing max_length manually, e.g. summarizer('...', max_length=69)\n",
      "Your max_length is set to 200, but your input_length is only 139. Since this is a summarization task, where outputs shorter than the input are typically wanted, you might consider decreasing max_length manually, e.g. summarizer('...', max_length=69)\n",
      "Your max_length is set to 200, but your input_length is only 142. Since this is a summarization task, where outputs shorter than the input are typically wanted, you might consider decreasing max_length manually, e.g. summarizer('...', max_length=71)\n",
      "Your max_length is set to 200, but your input_length is only 110. Since this is a summarization task, where outputs shorter than the input are typically wanted, you might consider decreasing max_length manually, e.g. summarizer('...', max_length=55)\n",
      "Your max_length is set to 200, but your input_length is only 118. Since this is a summarization task, where outputs shorter than the input are typically wanted, you might consider decreasing max_length manually, e.g. summarizer('...', max_length=59)\n",
      "Your max_length is set to 200, but your input_length is only 159. Since this is a summarization task, where outputs shorter than the input are typically wanted, you might consider decreasing max_length manually, e.g. summarizer('...', max_length=79)\n",
      "Your max_length is set to 200, but your input_length is only 59. Since this is a summarization task, where outputs shorter than the input are typically wanted, you might consider decreasing max_length manually, e.g. summarizer('...', max_length=29)\n"
     ]
    },
    {
     "name": "stdout",
     "output_type": "stream",
     "text": [
      "Summary:\n",
      "\n",
      "ByteScout SDK products are sunsetting as we focus on our new & improved solutions . Introducing PDF.co . Try pdf.co for document processing via Web APIs Learn More Introducing MuPDF . free signup PDF Merger API PDF Splitter API HTML to PDF API PDF Editor API Document Parser PDF Converter API PDF Extractor API Barcode Generator API File Uploader API SDK – Extract PDF to Excel, CSV, JSON, Text, XML . PDF to HTML with layout preserved PDF Renderer SDK . convert PDF to PNG, JPG, TIFF, BMP, EMF formats . read 1D and 2D barcodes from image and PDF files . PDF Generator, PDF to HTML, PDF Generator for JS [3 in 1] Barcode Suite . Extract data from documents, PDF, images, Excel on your desktop or web applications . Sensitive Data Suite – Detect, Remove, Analyze Your Documents for Sensive Data and PII (self-hosted cloud) API Server – Sec. ure and scalable REST API server that you can install on-premises Customers Buy Pricing Request a Quote Contact Sales Customization Local Resellers Licensing FAQ Company & Support Company About Us . Feedback from our customers Solutions – Healthcare, Insurance, Banking & Finance, POS, ETL, Logistics, Education & more Whitepapers . ntact Sales Contact Tech Support Manage Your Support Requests Learn & Free Apps ByteScout Academy . free desktop app to extract PDF, edit, split & merge & more . 32-bit single-Precision Floating Point in Details 32- bit single-precision floating point in details . the code still has to be converted down to the machine code, via compilation, interpretation, or even virtual machine . the arithmetic operation is based on addresses and registers without classes . floating-point numbers may affect your code . a brief introduction to the need for processing large or small values . for a long time, the floating-point format was used primarily for scientific research . it is extremely convenient that distance between Earth and Sun can be expressed in the same amount of bits as the distance between hydrogen and oxygen atoms in water molecules with the same relative precision . udes may be freely multiplied without large losses in precision . the latter is still used in some fields such as weather forecasting . IEEE 754 was the first coprocessor specifically dedicated to floating-point arithmetic . it was designed to replace slow library calls with the machine code . now almost every system except some embedded ones supports the floating point format . 32 bits are split into 1-bit sign flag, 8-bit exponent flag, and 23-bit fraction part . this information should be enough for us to start some experiments! 1.0 | 1 can be expressed in binary fluting-point form as 1.0 * 2sup>0 . in IEEE 754 exponent is 1111111 (127 in decimal) and significand is 1 . binary significand has one unique property, except for zero . if a number starts with zero, then it is not normalized . 1.0 | 1 | S: 0 E: 01111111 M: 000000000000000 -1.0 | -1 . 1 is skipped, but it is only 23 zeroes . negative sign just inverts sign flag without touching the rest . for integers, a negative sign is much more complex than flipping one bit! numbers 3 and 5 are represented as 1.1 and 1.01 with a proper exponent . 0.2 should not differ much from them, but it is . 2/3 is 0.666666... it happens because 3 does not have any non-trivial common divisors with 10 (10 = 2 * 5, neither of them is 3) 0.2 can only be represented as infinitely long 0.00110011001100 . 1.0 | 1 | S: 0 E: 01111111 M: 000000000000000 0.22*25 . 0.2 * 0.2* 25 is not the same as 1, and the expression is actually false . zero can never be written in the normalized form because it does not contain any 1s in its binary representation . it uses an exponent value of 0 and significand value of 0. +0 and -0 loosely correspond to the mathematical concept of the infinitesimal, positive and negative . those numbers can represent extremely small values, lesser than the minimum normalized number . a denormalized number has the virtual exponent value of 1, but, at the same time, they do not have omitted 1 as their first dioxyde . denormalized numbers lose precision to store numbers between 2sup>-128/sup . the least possible floating-point number is actually 2Sup>-149 . numbers with the exponent of 11111111 are reserved for the «otherother» 1 / 0 | inf | S: 0 E: 11111111 M: 000000000000000 . it can be achieved by dividing any non-zero number to zero or by getting any number larger than maximum allowed . Infinity / Infinity = NaN Not a Number, or NaN , is, perhaps, the most interesting floating-point value . it can be obtained in multiple ways . power function may return NaN in case of any of those indeterminate forms . any operation involving NaN as any of the operands always returns . ion is min or max: those functions should return the non-NaN argument . actual contents of NaN are implementation-defined; IEEE 754 only requires that exponent should be 11111111, significand should be non-zero . the application decides if it generates quiet NaN or signaling NaN . for example, the GCC C compiler always generates silence unless explicitly specified to behave the other way around . if (a == b) – wrong! – Floating-point numbers lose precision even when you are just working with such seemingly harmless numbers as 0.2 or 71.3 . multiplication is not associative in the world of floating-point arithmetic . a * (b* c) is not always equal to (a * b) * c . additional measures should be taken if you are working with either extremely large values, extremely small numbers, and/or numbers close to zero . bers are approximately 1.175494e-38 to 3.402823e+38 . sometimes, it may spoil program execution beyond recognition . a number of floating-point numbers operations per second, or FLOPS, is perhaps the most well-known . the only downside is that the programmer should be aware of all the pitfalls regarding the precision and floating-point values . we select the best writers to cover interesting and trending topics for our readers . Python Folium library is a data... COMPANY About Get Support Online Store Request a Feature Customers Testimonials Learn On how to plot geographical heatmaps . barCode Reader SDK QR Code SDK Spreadsheet SDK SUITES (2+ in 1) Premium Suite BarCode Suite Data Extraction Suite PDF Suite Sensitive Data Suite PDF.co (Online Web API) PDF Multitool (desktop, free) 10+ Online Tools (free) BarCode Read, read, read and read . barCode Generator App (free) Contact Sales Contact Tech Support  Copyright 2006 - Artifex Software, Inc — All rights reserved  Terms Of Use .\n"
     ]
    }
   ],
   "source": [
    "\n",
    "test_url = \"https://bytescout.com/blog/32-bit-single-precision-floating-point.html\"\n",
    "summarize_webpage(test_url)"
   ]
  }
 ],
 "metadata": {
  "kernelspec": {
   "display_name": ".venv",
   "language": "python",
   "name": "python3"
  },
  "language_info": {
   "codemirror_mode": {
    "name": "ipython",
    "version": 3
   },
   "file_extension": ".py",
   "mimetype": "text/x-python",
   "name": "python",
   "nbconvert_exporter": "python",
   "pygments_lexer": "ipython3",
   "version": "3.12.4"
  }
 },
 "nbformat": 4,
 "nbformat_minor": 2
}
